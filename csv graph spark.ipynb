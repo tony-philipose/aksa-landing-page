{
 "cells": [
  {
   "cell_type": "code",
   "execution_count": 1,
   "metadata": {},
   "outputs": [],
   "source": [
    "import findspark"
   ]
  },
  {
   "cell_type": "code",
   "execution_count": 2,
   "metadata": {},
   "outputs": [],
   "source": [
    "findspark.init()"
   ]
  },
  {
   "cell_type": "code",
   "execution_count": 3,
   "metadata": {},
   "outputs": [],
   "source": [
    "from pyspark import SparkContext"
   ]
  },
  {
   "cell_type": "code",
   "execution_count": 6,
   "metadata": {},
   "outputs": [],
   "source": [
    "from pyspark.sql import SparkSession"
   ]
  },
  {
   "cell_type": "code",
   "execution_count": 5,
   "metadata": {},
   "outputs": [
    {
     "ename": "NameError",
     "evalue": "name 'sc' is not defined",
     "output_type": "error",
     "traceback": [
      "\u001b[0;31m---------------------------------------------------------------------------\u001b[0m",
      "\u001b[0;31mNameError\u001b[0m                                 Traceback (most recent call last)",
      "\u001b[0;32m<ipython-input-5-8d3513b7698b>\u001b[0m in \u001b[0;36m<module>\u001b[0;34m\u001b[0m\n\u001b[0;32m----> 1\u001b[0;31m \u001b[0msc\u001b[0m\u001b[0;34m.\u001b[0m\u001b[0mstop\u001b[0m\u001b[0;34m(\u001b[0m\u001b[0;34m)\u001b[0m\u001b[0;34m\u001b[0m\u001b[0m\n\u001b[0m",
      "\u001b[0;31mNameError\u001b[0m: name 'sc' is not defined"
     ]
    }
   ],
   "source": [
    "sc.stop()"
   ]
  },
  {
   "cell_type": "code",
   "execution_count": 7,
   "metadata": {},
   "outputs": [],
   "source": [
    "sc = SparkContext()"
   ]
  },
  {
   "cell_type": "code",
   "execution_count": 8,
   "metadata": {},
   "outputs": [],
   "source": [
    "spark = SparkSession(sc)"
   ]
  },
  {
   "cell_type": "code",
   "execution_count": 9,
   "metadata": {},
   "outputs": [],
   "source": [
    "from pyspark.sql.types import StructType, StructField, IntegerType, StringType"
   ]
  },
  {
   "cell_type": "code",
   "execution_count": 10,
   "metadata": {},
   "outputs": [],
   "source": [
    "data = spark.read.csv(\"/home/local/ASSYST-COC/tony.p/Downloads/Police_Dep_Report.csv\",header=True, inferSchema=True)"
   ]
  },
  {
   "cell_type": "code",
   "execution_count": 11,
   "metadata": {
    "scrolled": false
   },
   "outputs": [
    {
     "data": {
      "text/plain": [
       "[Row(Incident Datetime='2018/08/15 04:40:00 PM', Incident Date='2018/08/15', Incident Time='16:40', Incident Year=2018, Incident Day of Week='Wednesday', Report Datetime='2018/08/16 09:30:00 AM', Row ID=71038051040, Incident ID=710380, Incident Number=180615301, CAD Number=180615301, Report Type Code='II', Report Type Description='Initial', Filed Online=None, Incident Code=51040, Incident Category='Non-Criminal', Incident Subcategory='Non-Criminal', Incident Description='Aided Case', Resolution='Open or Active', Intersection='23RD ST \\\\ MISSION ST', CNN=Decimal('24094000'), Police District='Mission', Analysis Neighborhood='Mission', Supervisor District=9, Latitude=37.753836586731786, Longitude=-122.41859394629981, point='(37.753836586732, -122.4185939463)', SF Find Neighborhoods=53, Current Police Districts=3, Current Supervisor Districts=2, Analysis Neighborhoods=20, HSOC Zones as of 2018-06-05=3, OWED Public Spaces=None),\n",
       " Row(Incident Datetime='2018/09/19 01:00:00 PM', Incident Date='2018/09/19', Incident Time='13:00', Incident Year=2018, Incident Day of Week='Wednesday', Report Datetime='2018/09/19 01:00:00 PM', Row ID=71807662050, Incident ID=718076, Incident Number=180710525, CAD Number=182622314, Report Type Code='II', Report Type Description='Initial', Filed Online=None, Incident Code=62050, Incident Category='Warrant', Incident Subcategory='Warrant', Incident Description='Warrant Arrest, Enroute To Outside Jurisdiction', Resolution='Cite or Arrest Adult', Intersection=None, CNN=None, Police District='Out of SF', Analysis Neighborhood=None, Supervisor District=None, Latitude=None, Longitude=None, point=None, SF Find Neighborhoods=None, Current Police Districts=None, Current Supervisor Districts=None, Analysis Neighborhoods=None, HSOC Zones as of 2018-06-05=None, OWED Public Spaces=None),\n",
       " Row(Incident Datetime='2018/12/02 08:30:00 PM', Incident Date='2018/12/02', Incident Time='20:30', Incident Year=2018, Incident Day of Week='Sunday', Report Datetime='2018/12/02 11:14:00 PM', Row ID=74436406244, Incident ID=744364, Incident Number=186277408, CAD Number=None, Report Type Code='II', Report Type Description='Coplogic Initial', Filed Online=True, Incident Code=6244, Incident Category='Larceny Theft', Incident Subcategory='Larceny - From Vehicle', Incident Description='Theft, From Locked Vehicle, >$950', Resolution='Open or Active', Intersection=None, CNN=None, Police District='Mission', Analysis Neighborhood=None, Supervisor District=None, Latitude=None, Longitude=None, point=None, SF Find Neighborhoods=None, Current Police Districts=None, Current Supervisor Districts=None, Analysis Neighborhoods=None, HSOC Zones as of 2018-06-05=None, OWED Public Spaces=None),\n",
       " Row(Incident Datetime='2018/10/27 06:25:00 PM', Incident Date='2018/10/27', Incident Time='18:25', Incident Year=2018, Incident Day of Week='Saturday', Report Datetime='2018/10/27 07:11:00 PM', Row ID=73183406244, Incident ID=731834, Incident Number=186250329, CAD Number=None, Report Type Code='II', Report Type Description='Coplogic Initial', Filed Online=True, Incident Code=6244, Incident Category='Larceny Theft', Incident Subcategory='Larceny - From Vehicle', Incident Description='Theft, From Locked Vehicle, >$950', Resolution='Open or Active', Intersection=None, CNN=None, Police District='Northern', Analysis Neighborhood=None, Supervisor District=None, Latitude=None, Longitude=None, point=None, SF Find Neighborhoods=None, Current Police Districts=None, Current Supervisor Districts=None, Analysis Neighborhoods=None, HSOC Zones as of 2018-06-05=None, OWED Public Spaces=None),\n",
       " Row(Incident Datetime='2018/12/04 07:45:00 AM', Incident Date='2018/12/04', Incident Time='07:45', Incident Year=2018, Incident Day of Week='Tuesday', Report Datetime='2018/12/04 08:15:00 AM', Row ID=74441307041, Incident ID=744413, Incident Number=180913694, CAD Number=None, Report Type Code='VS', Report Type Description='Vehicle Supplement', Filed Online=None, Incident Code=7041, Incident Category='Recovered Vehicle', Incident Subcategory='Recovered Vehicle', Incident Description='Vehicle, Recovered, Auto', Resolution='Open or Active', Intersection=None, CNN=None, Police District='Out of SF', Analysis Neighborhood=None, Supervisor District=None, Latitude=None, Longitude=None, point=None, SF Find Neighborhoods=None, Current Police Districts=None, Current Supervisor Districts=None, Analysis Neighborhoods=None, HSOC Zones as of 2018-06-05=None, OWED Public Spaces=None),\n",
       " Row(Incident Datetime='2018/09/05 12:00:00 PM', Incident Date='2018/09/05', Incident Time='12:00', Incident Year=2018, Incident Day of Week='Wednesday', Report Datetime='2018/09/06 05:18:00 PM', Row ID=71831506374, Incident ID=718315, Incident Number=186218270, CAD Number=None, Report Type Code='II', Report Type Description='Coplogic Initial', Filed Online=True, Incident Code=6374, Incident Category='Larceny Theft', Incident Subcategory='Larceny Theft - Other', Incident Description='Theft, Other Property, >$950', Resolution='Open or Active', Intersection=None, CNN=None, Police District='Southern', Analysis Neighborhood=None, Supervisor District=None, Latitude=None, Longitude=None, point=None, SF Find Neighborhoods=None, Current Police Districts=None, Current Supervisor Districts=None, Analysis Neighborhoods=None, HSOC Zones as of 2018-06-05=None, OWED Public Spaces=None),\n",
       " Row(Incident Datetime='2018/09/15 11:40:00 AM', Incident Date='2018/09/15', Incident Time='11:40', Incident Year=2018, Incident Day of Week='Saturday', Report Datetime='2018/09/15 12:26:00 PM', Row ID=71833206244, Incident ID=718332, Incident Number=186217426, CAD Number=None, Report Type Code='II', Report Type Description='Coplogic Initial', Filed Online=True, Incident Code=6244, Incident Category='Larceny Theft', Incident Subcategory='Larceny - From Vehicle', Incident Description='Theft, From Locked Vehicle, >$950', Resolution='Open or Active', Intersection=None, CNN=None, Police District='Southern', Analysis Neighborhood=None, Supervisor District=None, Latitude=None, Longitude=None, point=None, SF Find Neighborhoods=None, Current Police Districts=None, Current Supervisor Districts=None, Analysis Neighborhoods=None, HSOC Zones as of 2018-06-05=None, OWED Public Spaces=None),\n",
       " Row(Incident Datetime='2018/10/09 03:10:00 PM', Incident Date='2018/10/09', Incident Time='15:10', Incident Year=2018, Incident Day of Week='Tuesday', Report Datetime='2018/10/28 03:05:00 PM', Row ID=73187371000, Incident ID=731873, Incident Number=186250103, CAD Number=None, Report Type Code='II', Report Type Description='Coplogic Initial', Filed Online=True, Incident Code=71000, Incident Category='Lost Property', Incident Subcategory='Lost Property', Incident Description='Lost Property', Resolution='Open or Active', Intersection=None, CNN=None, Police District='Central', Analysis Neighborhood=None, Supervisor District=None, Latitude=None, Longitude=None, point=None, SF Find Neighborhoods=None, Current Police Districts=None, Current Supervisor Districts=None, Analysis Neighborhoods=None, HSOC Zones as of 2018-06-05=None, OWED Public Spaces=None),\n",
       " Row(Incident Datetime='2018/10/28 06:00:00 PM', Incident Date='2018/10/28', Incident Time='18:00', Incident Year=2018, Incident Day of Week='Sunday', Report Datetime='2018/10/28 08:58:00 PM', Row ID=73191406372, Incident ID=731914, Incident Number=186250539, CAD Number=None, Report Type Code='II', Report Type Description='Coplogic Initial', Filed Online=True, Incident Code=6372, Incident Category='Larceny Theft', Incident Subcategory='Larceny Theft - Other', Incident Description='Theft, Other Property, $50-$200', Resolution='Open or Active', Intersection=None, CNN=None, Police District='Tenderloin', Analysis Neighborhood=None, Supervisor District=None, Latitude=None, Longitude=None, point=None, SF Find Neighborhoods=None, Current Police Districts=None, Current Supervisor Districts=None, Analysis Neighborhoods=None, HSOC Zones as of 2018-06-05=None, OWED Public Spaces=None),\n",
       " Row(Incident Datetime='2018/12/04 07:59:00 AM', Incident Date='2018/12/04', Incident Time='07:59', Incident Year=2018, Incident Day of Week='Tuesday', Report Datetime='2018/12/04 07:59:00 AM', Row ID=74452451040, Incident ID=744524, Incident Number=180914034, CAD Number=183380707, Report Type Code='II', Report Type Description='Initial', Filed Online=None, Incident Code=51040, Incident Category='Non-Criminal', Incident Subcategory='Non-Criminal', Incident Description='Aided Case', Resolution='Open or Active', Intersection='ASHBURY ST \\\\ PAGE ST', CNN=Decimal('26343000'), Police District='Park', Analysis Neighborhood='Haight Ashbury', Supervisor District=5, Latitude=37.770934640386386, Longitude=-122.44712270165475, point='(37.770934640386, -122.447122701655)', SF Find Neighborhoods=25, Current Police Districts=7, Current Supervisor Districts=11, Analysis Neighborhoods=3, HSOC Zones as of 2018-06-05=None, OWED Public Spaces=None),\n",
       " Row(Incident Datetime='2018/09/22 08:00:00 PM', Incident Date='2018/09/22', Incident Time='20:00', Incident Year=2018, Incident Day of Week='Saturday', Report Datetime='2018/09/23 09:38:00 AM', Row ID=71842806244, Incident ID=718428, Incident Number=186218684, CAD Number=None, Report Type Code='II', Report Type Description='Coplogic Initial', Filed Online=True, Incident Code=6244, Incident Category='Larceny Theft', Incident Subcategory='Larceny - From Vehicle', Incident Description='Theft, From Locked Vehicle, >$950', Resolution='Open or Active', Intersection=None, CNN=None, Police District='Central', Analysis Neighborhood=None, Supervisor District=None, Latitude=None, Longitude=None, point=None, SF Find Neighborhoods=None, Current Police Districts=None, Current Supervisor Districts=None, Analysis Neighborhoods=None, HSOC Zones as of 2018-06-05=None, OWED Public Spaces=None),\n",
       " Row(Incident Datetime='2018/09/18 10:00:00 AM', Incident Date='2018/09/18', Incident Time='10:00', Incident Year=2018, Incident Day of Week='Tuesday', Report Datetime='2018/09/18 11:14:00 AM', Row ID=71850506244, Incident ID=718505, Incident Number=186217880, CAD Number=None, Report Type Code='II', Report Type Description='Coplogic Initial', Filed Online=True, Incident Code=6244, Incident Category='Larceny Theft', Incident Subcategory='Larceny - From Vehicle', Incident Description='Theft, From Locked Vehicle, >$950', Resolution='Open or Active', Intersection=None, CNN=None, Police District='Southern', Analysis Neighborhood=None, Supervisor District=None, Latitude=None, Longitude=None, point=None, SF Find Neighborhoods=None, Current Police Districts=None, Current Supervisor Districts=None, Analysis Neighborhoods=None, HSOC Zones as of 2018-06-05=None, OWED Public Spaces=None),\n",
       " Row(Incident Datetime='2018/12/04 07:15:00 PM', Incident Date='2018/12/04', Incident Time='19:15', Incident Year=2018, Incident Day of Week='Tuesday', Report Datetime='2018/12/04 07:15:00 PM', Row ID=74465164020, Incident ID=744651, Incident Number=180915838, CAD Number=183383429, Report Type Code='II', Report Type Description='Initial', Filed Online=None, Incident Code=64020, Incident Category='Non-Criminal', Incident Subcategory='Other', Incident Description='Mental Health Detention', Resolution='Open or Active', Intersection='ESSEX ST \\\\ FOLSOM ST', CNN=Decimal('24524000'), Police District='Southern', Analysis Neighborhood='Financial District/South Beach', Supervisor District=6, Latitude=37.78637893587979, Longitude=-122.39564546789741, point='(37.78637893588, -122.395645467897)', SF Find Neighborhoods=32, Current Police Districts=1, Current Supervisor Districts=10, Analysis Neighborhoods=8, HSOC Zones as of 2018-06-05=None, OWED Public Spaces=None),\n",
       " Row(Incident Datetime='2018/12/04 10:34:00 PM', Incident Date='2018/12/04', Incident Time='22:34', Incident Year=2018, Incident Day of Week='Tuesday', Report Datetime='2018/12/04 10:34:00 PM', Row ID=74465801001, Incident ID=744658, Incident Number=180910816, CAD Number=183384034, Report Type Code='IS', Report Type Description='Initial Supplement', Filed Online=None, Incident Code=1001, Incident Category='Homicide', Incident Subcategory='Homicide', Incident Description='Homicide, W/ Gun', Resolution='Open or Active', Intersection='22ND ST \\\\ POTRERO AVE', CNN=Decimal('23964000'), Police District='Mission', Analysis Neighborhood='Mission', Supervisor District=10, Latitude=37.75616698278188, Longitude=-122.40663579982515, point='(37.756166982782, -122.406635799825)', SF Find Neighborhoods=53, Current Police Districts=3, Current Supervisor Districts=9, Analysis Neighborhoods=20, HSOC Zones as of 2018-06-05=3, OWED Public Spaces=None),\n",
       " Row(Incident Datetime='2018/12/04 08:30:00 PM', Incident Date='2018/12/04', Incident Time='20:30', Incident Year=2018, Incident Day of Week='Tuesday', Report Datetime='2018/12/04 10:06:00 PM', Row ID=74465627010, Incident ID=744656, Incident Number=180916234, CAD Number=183383884, Report Type Code='II', Report Type Description='Initial', Filed Online=None, Incident Code=27010, Incident Category='Other Miscellaneous', Incident Subcategory='Fraud', Incident Description='Defrauding Providers of Food, Fuel, Services, or Accommodations', Resolution='Cite or Arrest Adult', Intersection='VAN NESS AVE \\\\ LOMBARD ST', CNN=Decimal('26696000'), Police District='Northern', Analysis Neighborhood='Marina', Supervisor District=2, Latitude=37.80130371865117, Longitude=-122.42453832626387, point='(37.801303718651, -122.424538326264)', SF Find Neighborhoods=15, Current Police Districts=4, Current Supervisor Districts=6, Analysis Neighborhoods=13, HSOC Zones as of 2018-06-05=None, OWED Public Spaces=None),\n",
       " Row(Incident Datetime='2018/12/04 11:21:00 PM', Incident Date='2018/12/04', Incident Time='23:21', Incident Year=2018, Incident Day of Week='Tuesday', Report Datetime='2018/12/04 11:21:00 PM', Row ID=74466663010, Incident ID=744666, Incident Number=180916331, CAD Number=183384165, Report Type Code='II', Report Type Description='Initial', Filed Online=None, Incident Code=63010, Incident Category='Warrant', Incident Subcategory='Other', Incident Description='Warrant Arrest, Local SF Warrant', Resolution='Cite or Arrest Adult', Intersection='WILLOW ST \\\\ LARKIN ST', CNN=Decimal('25150000'), Police District='Tenderloin', Analysis Neighborhood='Tenderloin', Supervisor District=6, Latitude=37.783777522298124, Longitude=-122.41761857247508, point='(37.783777522298, -122.417618572475)', SF Find Neighborhoods=20, Current Police Districts=5, Current Supervisor Districts=10, Analysis Neighborhoods=36, HSOC Zones as of 2018-06-05=None, OWED Public Spaces=None),\n",
       " Row(Incident Datetime='2018/11/24 06:00:00 PM', Incident Date='2018/11/24', Incident Time='18:00', Incident Year=2018, Incident Day of Week='Saturday', Report Datetime='2018/12/04 09:02:00 PM', Row ID=74465306304, Incident ID=744653, Incident Number=180916212, CAD Number=183383754, Report Type Code='II', Report Type Description='Initial', Filed Online=None, Incident Code=6304, Incident Category='Larceny Theft', Incident Subcategory='Larceny Theft - From Building', Incident Description='Theft, From Building, >$950', Resolution='Open or Active', Intersection='SPEAR ST \\\\ FOLSOM ST', CNN=Decimal('23607000'), Police District='Southern', Analysis Neighborhood='Financial District/South Beach', Supervisor District=6, Latitude=37.79006979947905, Longitude=-122.39097101886335, point='(37.790069799479, -122.390971018863)', SF Find Neighborhoods=30, Current Police Districts=1, Current Supervisor Districts=10, Analysis Neighborhoods=8, HSOC Zones as of 2018-06-05=None, OWED Public Spaces=None),\n",
       " Row(Incident Datetime='2018/11/29 09:00:00 AM', Incident Date='2018/11/29', Incident Time='09:00', Incident Year=2018, Incident Day of Week='Thursday', Report Datetime='2018/12/04 09:51:00 PM', Row ID=74465206314, Incident ID=744652, Incident Number=180916165, CAD Number=183382733, Report Type Code='II', Report Type Description='Initial', Filed Online=None, Incident Code=6314, Incident Category='Larceny Theft', Incident Subcategory='Larceny Theft - Bicycle', Incident Description='Theft, Bicycle, >$950', Resolution='Open or Active', Intersection='UNION ST \\\\ LARKIN ST', CNN=Decimal('25549000'), Police District='Central', Analysis Neighborhood='Russian Hill', Supervisor District=3, Latitude=37.79897105582768, Longitude=-122.42068880256538, point='(37.798971055828, -122.420688802565)', SF Find Neighborhoods=105, Current Police Districts=6, Current Supervisor Districts=3, Analysis Neighborhoods=32, HSOC Zones as of 2018-06-05=None, OWED Public Spaces=None),\n",
       " Row(Incident Datetime='2018/12/04 10:34:00 PM', Incident Date='2018/12/04', Incident Time='22:34', Incident Year=2018, Incident Day of Week='Tuesday', Report Datetime='2018/12/04 10:34:00 PM', Row ID=74465804011, Incident ID=744658, Incident Number=180910816, CAD Number=183384034, Report Type Code='IS', Report Type Description='Initial Supplement', Filed Online=None, Incident Code=4011, Incident Category='Assault', Incident Subcategory='Aggravated Assault', Incident Description='Assault, Aggravated, W/ Gun', Resolution='Open or Active', Intersection='22ND ST \\\\ POTRERO AVE', CNN=Decimal('23964000'), Police District='Mission', Analysis Neighborhood='Mission', Supervisor District=10, Latitude=37.75616698278188, Longitude=-122.40663579982515, point='(37.756166982782, -122.406635799825)', SF Find Neighborhoods=53, Current Police Districts=3, Current Supervisor Districts=9, Analysis Neighborhoods=20, HSOC Zones as of 2018-06-05=3, OWED Public Spaces=None),\n",
       " Row(Incident Datetime='2018/10/30 01:32:00 PM', Incident Date='2018/10/30', Incident Time='13:32', Incident Year=2018, Incident Day of Week='Tuesday', Report Datetime='2018/10/30 01:32:00 PM', Row ID=73206927175, Incident ID=732069, Incident Number=180823974, CAD Number=183032098, Report Type Code='II', Report Type Description='Initial', Filed Online=None, Incident Code=27175, Incident Category='Other Miscellaneous', Incident Subcategory='Other', Incident Description='Evading a Police Officer Recklessly', Resolution='Cite or Arrest Adult', Intersection='FRANCISCO ST \\\\ MONTGOMERY ST', CNN=Decimal('24880000'), Police District='Central', Analysis Neighborhood='North Beach', Supervisor District=3, Latitude=37.80569594262971, Longitude=-122.40535724201465, point='(37.80569594263, -122.405357242015)', SF Find Neighborhoods=18, Current Police Districts=6, Current Supervisor Districts=3, Analysis Neighborhoods=23, HSOC Zones as of 2018-06-05=None, OWED Public Spaces=None),\n",
       " Row(Incident Datetime='2018/09/04 07:00:00 PM', Incident Date='2018/09/04', Incident Time='19:00', Incident Year=2018, Incident Day of Week='Tuesday', Report Datetime='2018/09/14 08:45:00 AM', Row ID=71853371000, Incident ID=718533, Incident Number=186210577, CAD Number=None, Report Type Code='IS', Report Type Description='Coplogic Supplement', Filed Online=True, Incident Code=71000, Incident Category='Lost Property', Incident Subcategory='Lost Property', Incident Description='Lost Property', Resolution='Open or Active', Intersection=None, CNN=None, Police District='Southern', Analysis Neighborhood=None, Supervisor District=None, Latitude=None, Longitude=None, point=None, SF Find Neighborhoods=None, Current Police Districts=None, Current Supervisor Districts=None, Analysis Neighborhoods=None, HSOC Zones as of 2018-06-05=None, OWED Public Spaces=None),\n",
       " Row(Incident Datetime='2018/12/03 11:12:00 PM', Incident Date='2018/12/03', Incident Time='23:12', Incident Year=2018, Incident Day of Week='Monday', Report Datetime='2018/12/03 11:23:00 PM', Row ID=74431428100, Incident ID=744314, Incident Number=180913575, CAD Number=183374330, Report Type Code='II', Report Type Description='Initial', Filed Online=None, Incident Code=28100, Incident Category='Malicious Mischief', Incident Subcategory='Vandalism', Incident Description='Malicious Mischief, Breaking Windows', Resolution='Open or Active', Intersection='GEARY BLVD \\\\ 07TH AVE', CNN=Decimal('27285000'), Police District='Richmond', Analysis Neighborhood='Inner Richmond', Supervisor District=1, Latitude=37.78096549033097, Longitude=-122.46535287180907, point='(37.780965490331, -122.465352871809)', SF Find Neighborhoods=5, Current Police Districts=8, Current Supervisor Districts=4, Analysis Neighborhoods=11, HSOC Zones as of 2018-06-05=None, OWED Public Spaces=None),\n",
       " Row(Incident Datetime='2018/12/03 06:00:00 PM', Incident Date='2018/12/03', Incident Time='18:00', Incident Year=2018, Incident Day of Week='Monday', Report Datetime='2018/12/04 08:08:00 PM', Row ID=74462606243, Incident ID=744626, Incident Number=180915907, CAD Number=183383589, Report Type Code='II', Report Type Description='Initial', Filed Online=None, Incident Code=6243, Incident Category='Larceny Theft', Incident Subcategory='Larceny - From Vehicle', Incident Description='Theft, From Locked Vehicle, $200-$950', Resolution='Open or Active', Intersection='LYON ST \\\\ BAY ST \\\\ PALACE DR', CNN=Decimal('27026000'), Police District='Northern', Analysis Neighborhood='Marina', Supervisor District=2, Latitude=37.80163320684868, Longitude=-122.44781957435478, point='(37.801633206849, -122.447819574355)', SF Find Neighborhoods=17, Current Police Districts=4, Current Supervisor Districts=6, Analysis Neighborhoods=13, HSOC Zones as of 2018-06-05=None, OWED Public Spaces=15),\n",
       " Row(Incident Datetime='2018/11/27 12:00:00 AM', Incident Date='2018/11/27', Incident Time='00:00', Incident Year=2018, Incident Day of Week='Tuesday', Report Datetime='2018/11/28 01:36:00 PM', Row ID=74437306224, Incident ID=744373, Incident Number=186277191, CAD Number=None, Report Type Code='II', Report Type Description='Coplogic Initial', Filed Online=True, Incident Code=6224, Incident Category='Larceny Theft', Incident Subcategory='Larceny - From Vehicle', Incident Description='Theft, From Unlocked Vehicle, >$950', Resolution='Open or Active', Intersection='SUSSEX ST \\\\ CONRAD ST', CNN=Decimal('21985000'), Police District='Ingleside', Analysis Neighborhood='Glen Park', Supervisor District=8, Latitude=37.736539888828716, Longitude=-122.43615608823778, point='(37.736539888829, -122.436156088238)', SF Find Neighborhoods=96, Current Police Districts=9, Current Supervisor Districts=5, Analysis Neighborhoods=10, HSOC Zones as of 2018-06-05=None, OWED Public Spaces=None),\n",
       " Row(Incident Datetime='2018/12/03 10:55:00 PM', Incident Date='2018/12/03', Incident Time='22:55', Incident Year=2018, Incident Day of Week='Monday', Report Datetime='2018/12/04 01:28:00 AM', Row ID=74433906302, Incident ID=744339, Incident Number=180913729, CAD Number=183380080, Report Type Code='II', Report Type Description='Initial', Filed Online=None, Incident Code=6302, Incident Category='Larceny Theft', Incident Subcategory='Larceny Theft - From Building', Incident Description='Theft, From Building, $50-$200', Resolution='Cite or Arrest Adult', Intersection='ROSELYN TER \\\\ GOLDEN GATE AVE', CNN=Decimal('26456000'), Police District='Park', Analysis Neighborhood='Lone Mountain/USF', Supervisor District=1, Latitude=37.777318748226314, Longitude=-122.44957082723599, point='(37.777318748226, -122.449570827236)', SF Find Neighborhoods=12, Current Police Districts=7, Current Supervisor Districts=4, Analysis Neighborhoods=18, HSOC Zones as of 2018-06-05=None, OWED Public Spaces=None)]"
      ]
     },
     "execution_count": 11,
     "metadata": {},
     "output_type": "execute_result"
    }
   ],
   "source": [
    "data.head(25)"
   ]
  },
  {
   "cell_type": "code",
   "execution_count": 12,
   "metadata": {},
   "outputs": [
    {
     "data": {
      "text/plain": [
       "150791"
      ]
     },
     "execution_count": 12,
     "metadata": {},
     "output_type": "execute_result"
    }
   ],
   "source": [
    "data.count()"
   ]
  },
  {
   "cell_type": "code",
   "execution_count": 13,
   "metadata": {},
   "outputs": [
    {
     "data": {
      "text/plain": [
       "[('Incident Datetime', 'string'),\n",
       " ('Incident Date', 'string'),\n",
       " ('Incident Time', 'string'),\n",
       " ('Incident Year', 'int'),\n",
       " ('Incident Day of Week', 'string'),\n",
       " ('Report Datetime', 'string'),\n",
       " ('Row ID', 'bigint'),\n",
       " ('Incident ID', 'int'),\n",
       " ('Incident Number', 'int'),\n",
       " ('CAD Number', 'int'),\n",
       " ('Report Type Code', 'string'),\n",
       " ('Report Type Description', 'string'),\n",
       " ('Filed Online', 'boolean'),\n",
       " ('Incident Code', 'int'),\n",
       " ('Incident Category', 'string'),\n",
       " ('Incident Subcategory', 'string'),\n",
       " ('Incident Description', 'string'),\n",
       " ('Resolution', 'string'),\n",
       " ('Intersection', 'string'),\n",
       " ('CNN', 'decimal(8,0)'),\n",
       " ('Police District', 'string'),\n",
       " ('Analysis Neighborhood', 'string'),\n",
       " ('Supervisor District', 'int'),\n",
       " ('Latitude', 'double'),\n",
       " ('Longitude', 'double'),\n",
       " ('point', 'string'),\n",
       " ('SF Find Neighborhoods', 'int'),\n",
       " ('Current Police Districts', 'int'),\n",
       " ('Current Supervisor Districts', 'int'),\n",
       " ('Analysis Neighborhoods', 'int'),\n",
       " ('HSOC Zones as of 2018-06-05', 'int'),\n",
       " ('OWED Public Spaces', 'int')]"
      ]
     },
     "execution_count": 13,
     "metadata": {},
     "output_type": "execute_result"
    }
   ],
   "source": [
    "data.dtypes"
   ]
  },
  {
   "cell_type": "code",
   "execution_count": 14,
   "metadata": {},
   "outputs": [
    {
     "data": {
      "text/plain": [
       "['Incident Datetime',\n",
       " 'Incident Date',\n",
       " 'Incident Time',\n",
       " 'Incident Year',\n",
       " 'Incident Day of Week',\n",
       " 'Report Datetime',\n",
       " 'Row ID',\n",
       " 'Incident ID',\n",
       " 'Incident Number',\n",
       " 'CAD Number',\n",
       " 'Report Type Code',\n",
       " 'Report Type Description',\n",
       " 'Filed Online',\n",
       " 'Incident Code',\n",
       " 'Incident Category',\n",
       " 'Incident Subcategory',\n",
       " 'Incident Description',\n",
       " 'Resolution',\n",
       " 'Intersection',\n",
       " 'CNN',\n",
       " 'Police District',\n",
       " 'Analysis Neighborhood',\n",
       " 'Supervisor District',\n",
       " 'Latitude',\n",
       " 'Longitude',\n",
       " 'point',\n",
       " 'SF Find Neighborhoods',\n",
       " 'Current Police Districts',\n",
       " 'Current Supervisor Districts',\n",
       " 'Analysis Neighborhoods',\n",
       " 'HSOC Zones as of 2018-06-05',\n",
       " 'OWED Public Spaces']"
      ]
     },
     "execution_count": 14,
     "metadata": {},
     "output_type": "execute_result"
    }
   ],
   "source": [
    "data.columns"
   ]
  },
  {
   "cell_type": "code",
   "execution_count": 15,
   "metadata": {},
   "outputs": [],
   "source": [
    "q=data.select('Incident Category','Incident Subcategory').distinct()"
   ]
  },
  {
   "cell_type": "code",
   "execution_count": 16,
   "metadata": {},
   "outputs": [
    {
     "data": {
      "text/plain": [
       "[Row(Incident Category='Burglary', Incident Subcategory='Burglary - Commercial'),\n",
       " Row(Incident Category='Disorderly Conduct', Incident Subcategory='Weapons Offense'),\n",
       " Row(Incident Category='Other Miscellaneous', Incident Subcategory='Larceny Theft - Other'),\n",
       " Row(Incident Category='Disorderly Conduct', Incident Subcategory='Drunkenness'),\n",
       " Row(Incident Category='Family Offense', Incident Subcategory='Child Abuse'),\n",
       " Row(Incident Category='Larceny Theft', Incident Subcategory='Larceny Theft - Other'),\n",
       " Row(Incident Category='Larceny Theft', Incident Subcategory='Larceny Theft - Bicycle'),\n",
       " Row(Incident Category='Case Closure', Incident Subcategory='Case Closure'),\n",
       " Row(Incident Category='Non-Criminal', Incident Subcategory='Non-Criminal'),\n",
       " Row(Incident Category='Larceny Theft', Incident Subcategory='Larceny Theft - Pickpocket'),\n",
       " Row(Incident Category='Missing Person', Incident Subcategory='Missing Adult'),\n",
       " Row(Incident Category='Assault', Incident Subcategory='Aggravated Assault'),\n",
       " Row(Incident Category='Other Miscellaneous', Incident Subcategory='Weapons Offense'),\n",
       " Row(Incident Category='Other Miscellaneous', Incident Subcategory='Kidnapping'),\n",
       " Row(Incident Category='Disorderly Conduct', Incident Subcategory='Drug Violation'),\n",
       " Row(Incident Category='Offences Against The Family And Children', Incident Subcategory='Kidnapping'),\n",
       " Row(Incident Category='Robbery', Incident Subcategory='Robbery - Other'),\n",
       " Row(Incident Category='Lost Property', Incident Subcategory='Lost Property'),\n",
       " Row(Incident Category='Embezzlement', Incident Subcategory='Embezzlement'),\n",
       " Row(Incident Category='Other Miscellaneous', Incident Subcategory='Disorderly Conduct'),\n",
       " Row(Incident Category='Robbery', Incident Subcategory='Robbery - Street'),\n",
       " Row(Incident Category='Larceny Theft', Incident Subcategory='Larceny Theft - Shoplifting'),\n",
       " Row(Incident Category='Courtesy Report', Incident Subcategory='Courtesy Report'),\n",
       " Row(Incident Category='Juvenile Offenses', Incident Subcategory='Other'),\n",
       " Row(Incident Category='Other Miscellaneous', Incident Subcategory='Bribery'),\n",
       " Row(Incident Category='Miscellaneous Investigation', Incident Subcategory='Other'),\n",
       " Row(Incident Category='Offences Against The Family And Children', Incident Subcategory='Loitering'),\n",
       " Row(Incident Category='Disorderly Conduct', Incident Subcategory='Loitering'),\n",
       " Row(Incident Category='Warrant', Incident Subcategory='Other'),\n",
       " Row(Incident Category='Other Miscellaneous', Incident Subcategory='Liquor Law Violation'),\n",
       " Row(Incident Category='Robbery', Incident Subcategory='Robbery - Carjacking'),\n",
       " Row(Incident Category=None, Incident Subcategory=None),\n",
       " Row(Incident Category='Homicide', Incident Subcategory='Homicide'),\n",
       " Row(Incident Category='Weapons Offense', Incident Subcategory='Weapons Offense'),\n",
       " Row(Incident Category='Vandalism', Incident Subcategory='Vandalism'),\n",
       " Row(Incident Category='Juvenile Offenses', Incident Subcategory='Runaway'),\n",
       " Row(Incident Category='Offences Against The Family And Children', Incident Subcategory='Family Offenses'),\n",
       " Row(Incident Category='Civil Sidewalks', Incident Subcategory='Other'),\n",
       " Row(Incident Category='Sex Offense', Incident Subcategory='Child Abuse'),\n",
       " Row(Incident Category='Juvenile Offenses', Incident Subcategory='Family Offenses'),\n",
       " Row(Incident Category='Malicious Mischief', Incident Subcategory='Vandalism'),\n",
       " Row(Incident Category='Weapons Carrying Etc', Incident Subcategory='Weapons Offense'),\n",
       " Row(Incident Category='Disorderly Conduct', Incident Subcategory='Disorderly Conduct'),\n",
       " Row(Incident Category='Arson', Incident Subcategory='Arson'),\n",
       " Row(Incident Category='Suicide', Incident Subcategory='Suicide'),\n",
       " Row(Incident Category='Other Miscellaneous', Incident Subcategory='Suspicious Occ'),\n",
       " Row(Incident Category='Offences Against The Family And Children', Incident Subcategory='Drug Violation'),\n",
       " Row(Incident Category='Recovered Vehicle', Incident Subcategory='Recovered Vehicle'),\n",
       " Row(Incident Category='Human Trafficking (A), Commercial Sex Acts', Incident Subcategory='Human Trafficking, Commercial Sex Acts'),\n",
       " Row(Incident Category='Missing Person', Incident Subcategory='Missing Person'),\n",
       " Row(Incident Category='Malicious Mischief', Incident Subcategory='Other'),\n",
       " Row(Incident Category='Non-Criminal', Incident Subcategory='Other'),\n",
       " Row(Incident Category='Other Miscellaneous', Incident Subcategory='Extortion-Blackmail'),\n",
       " Row(Incident Category='Other Offenses', Incident Subcategory='Other'),\n",
       " Row(Incident Category='Offences Against The Family And Children', Incident Subcategory='Intimidation'),\n",
       " Row(Incident Category='Other Miscellaneous', Incident Subcategory='Fraud'),\n",
       " Row(Incident Category='Homicide', Incident Subcategory='Manslaughter'),\n",
       " Row(Incident Category='Disorderly Conduct', Incident Subcategory='Trespass'),\n",
       " Row(Incident Category='Drug Offense', Incident Subcategory='Drug Violation'),\n",
       " Row(Incident Category='Other Miscellaneous', Incident Subcategory='Arrest'),\n",
       " Row(Incident Category='Other Offenses', Incident Subcategory='Other Offenses'),\n",
       " Row(Incident Category='Traffic Violation Arrest', Incident Subcategory='Traffic Violation Arrest'),\n",
       " Row(Incident Category='Fraud', Incident Subcategory='Bad Checks'),\n",
       " Row(Incident Category='Gambling', Incident Subcategory='Gambling'),\n",
       " Row(Incident Category='Motor Vehicle Theft', Incident Subcategory='Motor Vehicle Theft'),\n",
       " Row(Incident Category='Motor Vehicle Theft', Incident Subcategory='Motor Vehicle Theft (Attempted)'),\n",
       " Row(Incident Category='Other Miscellaneous', Incident Subcategory='Loitering'),\n",
       " Row(Incident Category='Larceny Theft', Incident Subcategory='Larceny - Auto Parts'),\n",
       " Row(Incident Category='Drug Violation', Incident Subcategory='Drug Violation'),\n",
       " Row(Incident Category='Larceny Theft', Incident Subcategory='Larceny Theft - Purse Snatch'),\n",
       " Row(Incident Category='Sex Offense', Incident Subcategory='Sex Offense, Child'),\n",
       " Row(Incident Category='Weapons Offence', Incident Subcategory='Weapons Offense'),\n",
       " Row(Incident Category='Disorderly Conduct', Incident Subcategory='Intimidation'),\n",
       " Row(Incident Category='Robbery', Incident Subcategory='Robbery - Commercial'),\n",
       " Row(Incident Category='Warrant', Incident Subcategory='Warrant'),\n",
       " Row(Incident Category='Other', Incident Subcategory='Other'),\n",
       " Row(Incident Category='Offences Against The Family And Children', Incident Subcategory='Other'),\n",
       " Row(Incident Category='Other Miscellaneous', Incident Subcategory='Intimidation'),\n",
       " Row(Incident Category='Disorderly Conduct', Incident Subcategory='Other'),\n",
       " Row(Incident Category='Suspicious', Incident Subcategory='Suspicious Package'),\n",
       " Row(Incident Category='Traffic Collision', Incident Subcategory='Traffic Collision - Hit & Run'),\n",
       " Row(Incident Category='Stolen Property', Incident Subcategory='Stolen Property'),\n",
       " Row(Incident Category='Burglary', Incident Subcategory='Burglary - Residential'),\n",
       " Row(Incident Category='Larceny Theft', Incident Subcategory='Larceny - From Vehicle'),\n",
       " Row(Incident Category='Rape', Incident Subcategory='Rape'),\n",
       " Row(Incident Category='Burglary', Incident Subcategory='Burglary - Other'),\n",
       " Row(Incident Category='Miscellaneous Investigation', Incident Subcategory='Miscellaneous Investigation'),\n",
       " Row(Incident Category='Forgery And Counterfeiting', Incident Subcategory='Forgery And Counterfeiting'),\n",
       " Row(Incident Category='Fire Report', Incident Subcategory='Fire Report'),\n",
       " Row(Incident Category='Suspicious Occ', Incident Subcategory='Suspicious Occ'),\n",
       " Row(Incident Category='Robbery', Incident Subcategory='Robbery - Residential'),\n",
       " Row(Incident Category='Motor Vehicle Theft?', Incident Subcategory='Motor Vehicle Theft'),\n",
       " Row(Incident Category='Fraud', Incident Subcategory='Fraud'),\n",
       " Row(Incident Category='Vehicle Impounded', Incident Subcategory='Vehicle Impounded'),\n",
       " Row(Incident Category='Burglary', Incident Subcategory='Burglary - Hot Prowl'),\n",
       " Row(Incident Category='Larceny Theft', Incident Subcategory='Theft From Vehicle'),\n",
       " Row(Incident Category='Other Miscellaneous', Incident Subcategory='Trespass'),\n",
       " Row(Incident Category='Assault', Incident Subcategory='Simple Assault'),\n",
       " Row(Incident Category='Vehicle Misplaced', Incident Subcategory='Vehicle Misplaced'),\n",
       " Row(Incident Category='Sex Offense', Incident Subcategory='Sex Offense'),\n",
       " Row(Incident Category='Other Miscellaneous', Incident Subcategory='Other'),\n",
       " Row(Incident Category='Rape', Incident Subcategory='Rape - Attempted'),\n",
       " Row(Incident Category='Traffic Collision', Incident Subcategory='Traffic Collision'),\n",
       " Row(Incident Category='Larceny Theft', Incident Subcategory='Larceny Theft - From Building'),\n",
       " Row(Incident Category='Human Trafficking, Commercial Sex Acts', Incident Subcategory='Human Trafficking, Commercial Sex Acts'),\n",
       " Row(Incident Category='Prostitution', Incident Subcategory='Prostitution'),\n",
       " Row(Incident Category='Missing Person', Incident Subcategory='Missing Juvenile'),\n",
       " Row(Incident Category='Offences Against The Family And Children', Incident Subcategory='Stalking'),\n",
       " Row(Incident Category='Sex Offense', Incident Subcategory='Prostitution'),\n",
       " Row(Incident Category='Liquor Laws', Incident Subcategory='Liquor Law Violation')]"
      ]
     },
     "execution_count": 16,
     "metadata": {},
     "output_type": "execute_result"
    }
   ],
   "source": [
    "q.collect()"
   ]
  },
  {
   "cell_type": "code",
   "execution_count": 17,
   "metadata": {},
   "outputs": [],
   "source": [
    "q1=data.select('Incident Category','Incident Subcategory').distinct()\n"
   ]
  },
  {
   "cell_type": "code",
   "execution_count": 18,
   "metadata": {},
   "outputs": [
    {
     "name": "stdout",
     "output_type": "stream",
     "text": [
      "+--------------------+--------------------+\n",
      "|   Incident Category|Incident Subcategory|\n",
      "+--------------------+--------------------+\n",
      "|            Burglary|Burglary - Commer...|\n",
      "|  Disorderly Conduct|     Weapons Offense|\n",
      "| Other Miscellaneous|Larceny Theft - O...|\n",
      "|  Disorderly Conduct|         Drunkenness|\n",
      "|      Family Offense|         Child Abuse|\n",
      "|       Larceny Theft|Larceny Theft - O...|\n",
      "|       Larceny Theft|Larceny Theft - B...|\n",
      "|        Case Closure|        Case Closure|\n",
      "|        Non-Criminal|        Non-Criminal|\n",
      "|       Larceny Theft|Larceny Theft - P...|\n",
      "|      Missing Person|       Missing Adult|\n",
      "|             Assault|  Aggravated Assault|\n",
      "| Other Miscellaneous|     Weapons Offense|\n",
      "| Other Miscellaneous|          Kidnapping|\n",
      "|  Disorderly Conduct|      Drug Violation|\n",
      "|Offences Against ...|          Kidnapping|\n",
      "|             Robbery|     Robbery - Other|\n",
      "|       Lost Property|       Lost Property|\n",
      "|        Embezzlement|        Embezzlement|\n",
      "| Other Miscellaneous|  Disorderly Conduct|\n",
      "+--------------------+--------------------+\n",
      "only showing top 20 rows\n",
      "\n"
     ]
    }
   ],
   "source": [
    "q1.show()"
   ]
  },
  {
   "cell_type": "code",
   "execution_count": 19,
   "metadata": {},
   "outputs": [
    {
     "name": "stdout",
     "output_type": "stream",
     "text": [
      "+-------------------+--------------------+--------------------+\n",
      "|  Incident Category|Incident Subcategory|          Resolution|\n",
      "+-------------------+--------------------+--------------------+\n",
      "|       Non-Criminal|        Non-Criminal|      Open or Active|\n",
      "|            Warrant|             Warrant|Cite or Arrest Adult|\n",
      "|      Larceny Theft|Larceny - From Ve...|      Open or Active|\n",
      "|      Larceny Theft|Larceny - From Ve...|      Open or Active|\n",
      "|  Recovered Vehicle|   Recovered Vehicle|      Open or Active|\n",
      "|      Larceny Theft|Larceny Theft - O...|      Open or Active|\n",
      "|      Larceny Theft|Larceny - From Ve...|      Open or Active|\n",
      "|      Lost Property|       Lost Property|      Open or Active|\n",
      "|      Larceny Theft|Larceny Theft - O...|      Open or Active|\n",
      "|       Non-Criminal|        Non-Criminal|      Open or Active|\n",
      "|      Larceny Theft|Larceny - From Ve...|      Open or Active|\n",
      "|      Larceny Theft|Larceny - From Ve...|      Open or Active|\n",
      "|       Non-Criminal|               Other|      Open or Active|\n",
      "|           Homicide|            Homicide|      Open or Active|\n",
      "|Other Miscellaneous|               Fraud|Cite or Arrest Adult|\n",
      "|            Warrant|               Other|Cite or Arrest Adult|\n",
      "|      Larceny Theft|Larceny Theft - F...|      Open or Active|\n",
      "|      Larceny Theft|Larceny Theft - B...|      Open or Active|\n",
      "|            Assault|  Aggravated Assault|      Open or Active|\n",
      "|Other Miscellaneous|               Other|Cite or Arrest Adult|\n",
      "+-------------------+--------------------+--------------------+\n",
      "only showing top 20 rows\n",
      "\n"
     ]
    }
   ],
   "source": [
    "q1=data.select('Incident Category','Incident Subcategory','Resolution').show()\n"
   ]
  },
  {
   "cell_type": "code",
   "execution_count": 20,
   "metadata": {},
   "outputs": [],
   "source": [
    "q5=data.select('Incident Category').groupBy('Incident Category').count()"
   ]
  },
  {
   "cell_type": "code",
   "execution_count": 21,
   "metadata": {},
   "outputs": [],
   "source": [
    "import matplotlib.pyplot as plt\n",
    "import pandas as pd"
   ]
  },
  {
   "cell_type": "code",
   "execution_count": 22,
   "metadata": {},
   "outputs": [
    {
     "name": "stdout",
     "output_type": "stream",
     "text": [
      "+--------------------+-----+\n",
      "|   Incident Category|count|\n",
      "+--------------------+-----+\n",
      "|   Vehicle Misplaced|   66|\n",
      "|          Suspicious|   29|\n",
      "|Forgery And Count...|  669|\n",
      "|         Sex Offense|  420|\n",
      "|      Family Offense|  197|\n",
      "|         Fire Report|  151|\n",
      "|             Assault| 8919|\n",
      "|   Recovered Vehicle| 4259|\n",
      "|      Drug Violation|   54|\n",
      "|             Robbery| 3626|\n",
      "|Motor Vehicle Theft?|   30|\n",
      "|        Embezzlement|  175|\n",
      "|   Vehicle Impounded|   84|\n",
      "|                null|   12|\n",
      "|      Missing Person| 4423|\n",
      "|                Rape|   46|\n",
      "|Human Trafficking...|    3|\n",
      "|       Lost Property| 5475|\n",
      "|               Arson|  359|\n",
      "|            Homicide|   22|\n",
      "+--------------------+-----+\n",
      "only showing top 20 rows\n",
      "\n"
     ]
    }
   ],
   "source": [
    "q5.show()"
   ]
  },
  {
   "cell_type": "code",
   "execution_count": 23,
   "metadata": {},
   "outputs": [],
   "source": [
    "dg = q5.toPandas()"
   ]
  },
  {
   "cell_type": "code",
   "execution_count": 24,
   "metadata": {},
   "outputs": [
    {
     "name": "stdout",
     "output_type": "stream",
     "text": [
      "                             Incident Category  count\n",
      "0                            Vehicle Misplaced     66\n",
      "1                                   Suspicious     29\n",
      "2                   Forgery And Counterfeiting    669\n",
      "3                                  Sex Offense    420\n",
      "4                               Family Offense    197\n",
      "5                                  Fire Report    151\n",
      "6                                      Assault   8919\n",
      "7                            Recovered Vehicle   4259\n",
      "8                               Drug Violation     54\n",
      "9                                      Robbery   3626\n",
      "10                        Motor Vehicle Theft?     30\n",
      "11                                Embezzlement    175\n",
      "12                           Vehicle Impounded     84\n",
      "13                                        None     12\n",
      "14                              Missing Person   4423\n",
      "15                                        Rape     46\n",
      "16      Human Trafficking, Commercial Sex Acts      3\n",
      "17                               Lost Property   5475\n",
      "18                                       Arson    359\n",
      "19                                    Homicide     22\n",
      "20                                       Fraud   4258\n",
      "21                                Drug Offense   4077\n",
      "22                             Weapons Offence      5\n",
      "23                                     Suicide     54\n",
      "24                                       Other    878\n",
      "25                                    Gambling     13\n",
      "26                                    Burglary   6901\n",
      "27  Human Trafficking (A), Commercial Sex Acts     85\n",
      "28                                     Warrant   5531\n",
      "29                    Traffic Violation Arrest   2061\n",
      "30                             Courtesy Report    395\n",
      "31                           Traffic Collision    244\n",
      "32                        Weapons Carrying Etc    842\n",
      "33                             Weapons Offense    753\n",
      "34                              Other Offenses   1105\n",
      "35                 Miscellaneous Investigation   1262\n",
      "36                                Non-Criminal   9441\n",
      "37                                Prostitution    370\n",
      "38                             Civil Sidewalks    499\n",
      "39                                Case Closure    616\n",
      "40                              Suspicious Occ   2666\n",
      "41                               Larceny Theft  47156\n",
      "42                         Other Miscellaneous  11775\n",
      "43                                 Liquor Laws     40\n",
      "44                          Malicious Mischief   8614\n",
      "45                          Disorderly Conduct   2479\n",
      "46                           Juvenile Offenses    253\n",
      "47    Offences Against The Family And Children   3329\n",
      "48                         Motor Vehicle Theft   5115\n",
      "49                                   Vandalism    173\n",
      "50                             Stolen Property    782\n"
     ]
    }
   ],
   "source": [
    "print(dg)"
   ]
  },
  {
   "cell_type": "code",
   "execution_count": 25,
   "metadata": {},
   "outputs": [
    {
     "data": {
      "image/png": "[encoded data removed]",
      "text/plain": [
       "<Figure size 1008x432 with 1 Axes>"
      ]
     },
     "metadata": {
      "needs_background": "light"
     },
     "output_type": "display_data"
    }
   ],
   "source": [
    "dg.plot(kind=\"bar\", x=\"Incident Category\", y=\"count\", color=\"blue\", figsize=(14, 6))\n",
    "plt.show()"
   ]
  },
  {
   "cell_type": "code",
   "execution_count": 26,
   "metadata": {},
   "outputs": [
    {
     "data": {
      "image/png": "[encoded data removed]",
      "text/plain": [
       "<Figure size 1008x432 with 1 Axes>"
      ]
     },
     "metadata": {
      "needs_background": "light"
     },
     "output_type": "display_data"
    }
   ],
   "source": [
    "dg.plot(kind=\"line\", x=\"Incident Category\", y=\"count\", color=\"blue\", figsize=(14, 6))\n",
    "plt.show()"
   ]
  },
  {
   "cell_type": "code",
   "execution_count": 27,
   "metadata": {},
   "outputs": [
    {
     "name": "stdout",
     "output_type": "stream",
     "text": [
      "+---------------+-----+\n",
      "|Police District|count|\n",
      "+---------------+-----+\n",
      "|        Taraval|10569|\n",
      "|      Ingleside|10706|\n",
      "|       Southern|19704|\n",
      "|       Northern|18650|\n",
      "|        Bayview|12025|\n",
      "|        Mission|20983|\n",
      "|        Central|23945|\n",
      "|     Tenderloin|15083|\n",
      "|           Park| 7136|\n",
      "|      Out of SF| 3787|\n",
      "|       Richmond| 8203|\n",
      "+---------------+-----+\n",
      "\n"
     ]
    }
   ],
   "source": [
    "q6=data.select('Police District').groupBy('Police District').count()\n",
    "q6.show()"
   ]
  },
  {
   "cell_type": "code",
   "execution_count": 28,
   "metadata": {},
   "outputs": [
    {
     "name": "stdout",
     "output_type": "stream",
     "text": [
      "+--------------------+-----+\n",
      "|   Incident Category|count|\n",
      "+--------------------+-----+\n",
      "|   Vehicle Misplaced|   66|\n",
      "|          Suspicious|   29|\n",
      "|Forgery And Count...|  669|\n",
      "|         Sex Offense|  420|\n",
      "|      Family Offense|  197|\n",
      "|         Fire Report|  151|\n",
      "|             Assault| 8919|\n",
      "|   Recovered Vehicle| 4259|\n",
      "|      Drug Violation|   54|\n",
      "|             Robbery| 3626|\n",
      "|Motor Vehicle Theft?|   30|\n",
      "|        Embezzlement|  175|\n",
      "|   Vehicle Impounded|   84|\n",
      "|                null|   12|\n",
      "|      Missing Person| 4423|\n",
      "|                Rape|   46|\n",
      "|Human Trafficking...|    3|\n",
      "|       Lost Property| 5475|\n",
      "|               Arson|  359|\n",
      "|            Homicide|   22|\n",
      "+--------------------+-----+\n",
      "only showing top 20 rows\n",
      "\n"
     ]
    }
   ],
   "source": [
    "q7=data.select('Incident Category','Police District').groupBy('Incident Category').count()\n",
    "q7.show()"
   ]
  },
  {
   "cell_type": "code",
   "execution_count": 29,
   "metadata": {},
   "outputs": [
    {
     "ename": "SyntaxError",
     "evalue": "invalid syntax (<ipython-input-29-d2d9f04fe49f>, line 1)",
     "output_type": "error",
     "traceback": [
      "\u001b[0;36m  File \u001b[0;32m\"<ipython-input-29-d2d9f04fe49f>\"\u001b[0;36m, line \u001b[0;32m1\u001b[0m\n\u001b[0;31m    q9=data.select('Incident Category',).groupBy('Incident Category').count() where('Police District'='Southern')\u001b[0m\n\u001b[0m                                                                                  ^\u001b[0m\n\u001b[0;31mSyntaxError\u001b[0m\u001b[0;31m:\u001b[0m invalid syntax\n"
     ]
    }
   ],
   "source": [
    "q9=data.select('Incident Category',).groupBy('Incident Category').count() where('Police District'='Southern')\n",
    "q9.show()"
   ]
  },
  {
   "cell_type": "code",
   "execution_count": null,
   "metadata": {},
   "outputs": [],
   "source": [
    "g1 = q6.toPandas()\n",
    "g2 = q7.toPandas()"
   ]
  },
  {
   "cell_type": "code",
   "execution_count": null,
   "metadata": {},
   "outputs": [],
   "source": [
    "print(g1)"
   ]
  },
  {
   "cell_type": "code",
   "execution_count": null,
   "metadata": {},
   "outputs": [],
   "source": [
    "print(g2)"
   ]
  },
  {
   "cell_type": "code",
   "execution_count": null,
   "metadata": {},
   "outputs": [],
   "source": [
    "g2.plot(kind=\"bar\", x=\"Incident Category\", y=\"count\", color=\"blue\", figsize=(14, 6))\n",
    "g1.plot(kind=\"bar\", x=\"Police District\", y=\"count\", color=\"red\", figsize=(14, 6))\n",
    "plt.legend()\n",
    "plt.xlabel('category')\n",
    "plt.ylabel('counts (kms)')\n",
    "plt.title('Information')\n",
    "plt.show()"
   ]
  },
  {
   "cell_type": "code",
   "execution_count": null,
   "metadata": {},
   "outputs": [],
   "source": [
    "g2.plot(kind=\"line\", x=\"Incident Category\", y=\"count\", color=\"blue\", figsize=(14, 6))\n",
    "g1.plot(kind=\"bar\", x=\"Police District\", y=\"count\", color=\"red\", figsize=(14, 6))\n",
    "plt.xlabel('category')\n",
    "plt.ylabel('counts (kms)')\n",
    "plt.title('Information')\n",
    "plt.show()"
   ]
  },
  {
   "cell_type": "code",
   "execution_count": null,
   "metadata": {},
   "outputs": [],
   "source": [
    "q8=data.select('Incident Category','Police District','Incident Date')\n",
    "q8.show()"
   ]
  },
  {
   "cell_type": "code",
   "execution_count": null,
   "metadata": {},
   "outputs": [],
   "source": [
    "frames = [g1, g2]\n",
    "result = pd.concat(frames)\n",
    "print(result)"
   ]
  },
  {
   "cell_type": "code",
   "execution_count": null,
   "metadata": {},
   "outputs": [],
   "source": [
    "result.plot(kind=\"bar\", x=\"Incident Category\", y=\"count\", color=\"blue\", figsize=(14, 6))\n",
    "result.plot(kind=\"bar\", x=\"Police District\", y=\"count\", color=\"red\", figsize=(14, 6))"
   ]
  },
  {
   "cell_type": "code",
   "execution_count": 30,
   "metadata": {},
   "outputs": [
    {
     "name": "stdout",
     "output_type": "stream",
     "text": [
      "+--------------------+-----+\n",
      "|   Incident Category|count|\n",
      "+--------------------+-----+\n",
      "|   Vehicle Misplaced|   66|\n",
      "|          Suspicious|   29|\n",
      "|Forgery And Count...|  669|\n",
      "|         Sex Offense|  420|\n",
      "|      Family Offense|  197|\n",
      "|         Fire Report|  151|\n",
      "|             Assault| 8919|\n",
      "|   Recovered Vehicle| 4259|\n",
      "|      Drug Violation|   54|\n",
      "|             Robbery| 3626|\n",
      "|Motor Vehicle Theft?|   30|\n",
      "|        Embezzlement|  175|\n",
      "|   Vehicle Impounded|   84|\n",
      "|                null|   12|\n",
      "|      Missing Person| 4423|\n",
      "|                Rape|   46|\n",
      "|Human Trafficking...|    3|\n",
      "|       Lost Property| 5475|\n",
      "|               Arson|  359|\n",
      "|            Homicide|   22|\n",
      "+--------------------+-----+\n",
      "only showing top 20 rows\n",
      "\n"
     ]
    }
   ],
   "source": [
    "qic=data.select('Incident Category').groupBy('Incident Category').count().show()"
   ]
  },
  {
   "cell_type": "code",
   "execution_count": 31,
   "metadata": {},
   "outputs": [
    {
     "name": "stdout",
     "output_type": "stream",
     "text": [
      "+---------------+-----------+\n",
      "|Police District|Incident ID|\n",
      "+---------------+-----------+\n",
      "|        Mission|     710380|\n",
      "|      Out of SF|     718076|\n",
      "|        Mission|     744364|\n",
      "|       Northern|     731834|\n",
      "|      Out of SF|     744413|\n",
      "|       Southern|     718315|\n",
      "|       Southern|     718332|\n",
      "|        Central|     731873|\n",
      "|     Tenderloin|     731914|\n",
      "|           Park|     744524|\n",
      "|        Central|     718428|\n",
      "|       Southern|     718505|\n",
      "|       Southern|     744651|\n",
      "|        Mission|     744658|\n",
      "|       Northern|     744656|\n",
      "|     Tenderloin|     744666|\n",
      "|       Southern|     744653|\n",
      "|        Central|     744652|\n",
      "|        Mission|     744658|\n",
      "|        Central|     732069|\n",
      "+---------------+-----------+\n",
      "only showing top 20 rows\n",
      "\n"
     ]
    }
   ],
   "source": [
    "qic=data.select('Police District','Incident ID').show()"
   ]
  },
  {
   "cell_type": "code",
   "execution_count": 32,
   "metadata": {},
   "outputs": [
    {
     "name": "stdout",
     "output_type": "stream",
     "text": [
      "+---------------+-----------+\n",
      "|Police District|Incident ID|\n",
      "+---------------+-----------+\n",
      "|        Mission|     710380|\n",
      "|      Out of SF|     718076|\n",
      "|        Mission|     744364|\n",
      "|       Northern|     731834|\n",
      "|      Out of SF|     744413|\n",
      "|       Southern|     718315|\n",
      "|       Southern|     718332|\n",
      "|        Central|     731873|\n",
      "|     Tenderloin|     731914|\n",
      "|           Park|     744524|\n",
      "|        Central|     718428|\n",
      "|       Southern|     718505|\n",
      "|       Southern|     744651|\n",
      "|        Mission|     744658|\n",
      "|       Northern|     744656|\n",
      "|     Tenderloin|     744666|\n",
      "|       Southern|     744653|\n",
      "|        Central|     744652|\n",
      "|        Mission|     744658|\n",
      "|        Central|     732069|\n",
      "+---------------+-----------+\n",
      "only showing top 20 rows\n",
      "\n"
     ]
    }
   ],
   "source": [
    "data.select(data['Police District'], data['Incident ID'] ).show()"
   ]
  },
  {
   "cell_type": "code",
   "execution_count": 33,
   "metadata": {},
   "outputs": [],
   "source": [
    "data.createGlobalTempView(\"people\")"
   ]
  },
  {
   "cell_type": "code",
   "execution_count": 34,
   "metadata": {},
   "outputs": [
    {
     "name": "stdout",
     "output_type": "stream",
     "text": [
      "+--------------------+-------------+-------------+-------------+--------------------+--------------------+-----------+-----------+---------------+----------+----------------+-----------------------+------------+-------------+-------------------+--------------------+--------------------+--------------------+--------------------+--------+---------------+---------------------+-------------------+------------------+-------------------+--------------------+---------------------+------------------------+----------------------------+----------------------+---------------------------+------------------+\n",
      "|   Incident Datetime|Incident Date|Incident Time|Incident Year|Incident Day of Week|     Report Datetime|     Row ID|Incident ID|Incident Number|CAD Number|Report Type Code|Report Type Description|Filed Online|Incident Code|  Incident Category|Incident Subcategory|Incident Description|          Resolution|        Intersection|     CNN|Police District|Analysis Neighborhood|Supervisor District|          Latitude|          Longitude|               point|SF Find Neighborhoods|Current Police Districts|Current Supervisor Districts|Analysis Neighborhoods|HSOC Zones as of 2018-06-05|OWED Public Spaces|\n",
      "+--------------------+-------------+-------------+-------------+--------------------+--------------------+-----------+-----------+---------------+----------+----------------+-----------------------+------------+-------------+-------------------+--------------------+--------------------+--------------------+--------------------+--------+---------------+---------------------+-------------------+------------------+-------------------+--------------------+---------------------+------------------------+----------------------------+----------------------+---------------------------+------------------+\n",
      "|2018/08/15 04:40:...|   2018/08/15|        16:40|         2018|           Wednesday|2018/08/16 09:30:...|71038051040|     710380|      180615301| 180615301|              II|                Initial|        null|        51040|       Non-Criminal|        Non-Criminal|          Aided Case|      Open or Active|23RD ST \\ MISSION ST|24094000|        Mission|              Mission|                  9|37.753836586731786|-122.41859394629981|(37.753836586732,...|                   53|                       3|                           2|                    20|                          3|              null|\n",
      "|2018/09/19 01:00:...|   2018/09/19|        13:00|         2018|           Wednesday|2018/09/19 01:00:...|71807662050|     718076|      180710525| 182622314|              II|                Initial|        null|        62050|            Warrant|             Warrant|Warrant Arrest, E...|Cite or Arrest Adult|                null|    null|      Out of SF|                 null|               null|              null|               null|                null|                 null|                    null|                        null|                  null|                       null|              null|\n",
      "|2018/12/02 08:30:...|   2018/12/02|        20:30|         2018|              Sunday|2018/12/02 11:14:...|74436406244|     744364|      186277408|      null|              II|       Coplogic Initial|        true|         6244|      Larceny Theft|Larceny - From Ve...|Theft, From Locke...|      Open or Active|                null|    null|        Mission|                 null|               null|              null|               null|                null|                 null|                    null|                        null|                  null|                       null|              null|\n",
      "|2018/10/27 06:25:...|   2018/10/27|        18:25|         2018|            Saturday|2018/10/27 07:11:...|73183406244|     731834|      186250329|      null|              II|       Coplogic Initial|        true|         6244|      Larceny Theft|Larceny - From Ve...|Theft, From Locke...|      Open or Active|                null|    null|       Northern|                 null|               null|              null|               null|                null|                 null|                    null|                        null|                  null|                       null|              null|\n",
      "|2018/12/04 07:45:...|   2018/12/04|        07:45|         2018|             Tuesday|2018/12/04 08:15:...|74441307041|     744413|      180913694|      null|              VS|     Vehicle Supplement|        null|         7041|  Recovered Vehicle|   Recovered Vehicle|Vehicle, Recovere...|      Open or Active|                null|    null|      Out of SF|                 null|               null|              null|               null|                null|                 null|                    null|                        null|                  null|                       null|              null|\n",
      "|2018/09/05 12:00:...|   2018/09/05|        12:00|         2018|           Wednesday|2018/09/06 05:18:...|71831506374|     718315|      186218270|      null|              II|       Coplogic Initial|        true|         6374|      Larceny Theft|Larceny Theft - O...|Theft, Other Prop...|      Open or Active|                null|    null|       Southern|                 null|               null|              null|               null|                null|                 null|                    null|                        null|                  null|                       null|              null|\n",
      "|2018/09/15 11:40:...|   2018/09/15|        11:40|         2018|            Saturday|2018/09/15 12:26:...|71833206244|     718332|      186217426|      null|              II|       Coplogic Initial|        true|         6244|      Larceny Theft|Larceny - From Ve...|Theft, From Locke...|      Open or Active|                null|    null|       Southern|                 null|               null|              null|               null|                null|                 null|                    null|                        null|                  null|                       null|              null|\n",
      "|2018/10/09 03:10:...|   2018/10/09|        15:10|         2018|             Tuesday|2018/10/28 03:05:...|73187371000|     731873|      186250103|      null|              II|       Coplogic Initial|        true|        71000|      Lost Property|       Lost Property|       Lost Property|      Open or Active|                null|    null|        Central|                 null|               null|              null|               null|                null|                 null|                    null|                        null|                  null|                       null|              null|\n",
      "|2018/10/28 06:00:...|   2018/10/28|        18:00|         2018|              Sunday|2018/10/28 08:58:...|73191406372|     731914|      186250539|      null|              II|       Coplogic Initial|        true|         6372|      Larceny Theft|Larceny Theft - O...|Theft, Other Prop...|      Open or Active|                null|    null|     Tenderloin|                 null|               null|              null|               null|                null|                 null|                    null|                        null|                  null|                       null|              null|\n",
      "|2018/12/04 07:59:...|   2018/12/04|        07:59|         2018|             Tuesday|2018/12/04 07:59:...|74452451040|     744524|      180914034| 183380707|              II|                Initial|        null|        51040|       Non-Criminal|        Non-Criminal|          Aided Case|      Open or Active|ASHBURY ST \\ PAGE ST|26343000|           Park|       Haight Ashbury|                  5|37.770934640386386|-122.44712270165475|(37.770934640386,...|                   25|                       7|                          11|                     3|                       null|              null|\n",
      "|2018/09/22 08:00:...|   2018/09/22|        20:00|         2018|            Saturday|2018/09/23 09:38:...|71842806244|     718428|      186218684|      null|              II|       Coplogic Initial|        true|         6244|      Larceny Theft|Larceny - From Ve...|Theft, From Locke...|      Open or Active|                null|    null|        Central|                 null|               null|              null|               null|                null|                 null|                    null|                        null|                  null|                       null|              null|\n",
      "|2018/09/18 10:00:...|   2018/09/18|        10:00|         2018|             Tuesday|2018/09/18 11:14:...|71850506244|     718505|      186217880|      null|              II|       Coplogic Initial|        true|         6244|      Larceny Theft|Larceny - From Ve...|Theft, From Locke...|      Open or Active|                null|    null|       Southern|                 null|               null|              null|               null|                null|                 null|                    null|                        null|                  null|                       null|              null|\n",
      "|2018/12/04 07:15:...|   2018/12/04|        19:15|         2018|             Tuesday|2018/12/04 07:15:...|74465164020|     744651|      180915838| 183383429|              II|                Initial|        null|        64020|       Non-Criminal|               Other|Mental Health Det...|      Open or Active|ESSEX ST \\ FOLSOM ST|24524000|       Southern| Financial Distric...|                  6| 37.78637893587979|-122.39564546789741|(37.78637893588, ...|                   32|                       1|                          10|                     8|                       null|              null|\n",
      "|2018/12/04 10:34:...|   2018/12/04|        22:34|         2018|             Tuesday|2018/12/04 10:34:...|74465801001|     744658|      180910816| 183384034|              IS|     Initial Supplement|        null|         1001|           Homicide|            Homicide|    Homicide, W/ Gun|      Open or Active|22ND ST \\ POTRERO...|23964000|        Mission|              Mission|                 10| 37.75616698278188|-122.40663579982515|(37.756166982782,...|                   53|                       3|                           9|                    20|                          3|              null|\n",
      "|2018/12/04 08:30:...|   2018/12/04|        20:30|         2018|             Tuesday|2018/12/04 10:06:...|74465627010|     744656|      180916234| 183383884|              II|                Initial|        null|        27010|Other Miscellaneous|               Fraud|Defrauding Provid...|Cite or Arrest Adult|VAN NESS AVE \\ LO...|26696000|       Northern|               Marina|                  2| 37.80130371865117|-122.42453832626387|(37.801303718651,...|                   15|                       4|                           6|                    13|                       null|              null|\n",
      "|2018/12/04 11:21:...|   2018/12/04|        23:21|         2018|             Tuesday|2018/12/04 11:21:...|74466663010|     744666|      180916331| 183384165|              II|                Initial|        null|        63010|            Warrant|               Other|Warrant Arrest, L...|Cite or Arrest Adult|WILLOW ST \\ LARKI...|25150000|     Tenderloin|           Tenderloin|                  6|37.783777522298124|-122.41761857247508|(37.783777522298,...|                   20|                       5|                          10|                    36|                       null|              null|\n",
      "|2018/11/24 06:00:...|   2018/11/24|        18:00|         2018|            Saturday|2018/12/04 09:02:...|74465306304|     744653|      180916212| 183383754|              II|                Initial|        null|         6304|      Larceny Theft|Larceny Theft - F...|Theft, From Build...|      Open or Active|SPEAR ST \\ FOLSOM ST|23607000|       Southern| Financial Distric...|                  6| 37.79006979947905|-122.39097101886335|(37.790069799479,...|                   30|                       1|                          10|                     8|                       null|              null|\n",
      "|2018/11/29 09:00:...|   2018/11/29|        09:00|         2018|            Thursday|2018/12/04 09:51:...|74465206314|     744652|      180916165| 183382733|              II|                Initial|        null|         6314|      Larceny Theft|Larceny Theft - B...|Theft, Bicycle, >...|      Open or Active|UNION ST \\ LARKIN ST|25549000|        Central|         Russian Hill|                  3| 37.79897105582768|-122.42068880256538|(37.798971055828,...|                  105|                       6|                           3|                    32|                       null|              null|\n",
      "|2018/12/04 10:34:...|   2018/12/04|        22:34|         2018|             Tuesday|2018/12/04 10:34:...|74465804011|     744658|      180910816| 183384034|              IS|     Initial Supplement|        null|         4011|            Assault|  Aggravated Assault|Assault, Aggravat...|      Open or Active|22ND ST \\ POTRERO...|23964000|        Mission|              Mission|                 10| 37.75616698278188|-122.40663579982515|(37.756166982782,...|                   53|                       3|                           9|                    20|                          3|              null|\n",
      "|2018/10/30 01:32:...|   2018/10/30|        13:32|         2018|             Tuesday|2018/10/30 01:32:...|73206927175|     732069|      180823974| 183032098|              II|                Initial|        null|        27175|Other Miscellaneous|               Other|Evading a Police ...|Cite or Arrest Adult|FRANCISCO ST \\ MO...|24880000|        Central|          North Beach|                  3| 37.80569594262971|-122.40535724201465|(37.80569594263, ...|                   18|                       6|                           3|                    23|                       null|              null|\n",
      "+--------------------+-------------+-------------+-------------+--------------------+--------------------+-----------+-----------+---------------+----------+----------------+-----------------------+------------+-------------+-------------------+--------------------+--------------------+--------------------+--------------------+--------+---------------+---------------------+-------------------+------------------+-------------------+--------------------+---------------------+------------------------+----------------------------+----------------------+---------------------------+------------------+\n",
      "only showing top 20 rows\n",
      "\n"
     ]
    }
   ],
   "source": [
    "a=spark.sql(\"SELECT * FROM global_temp.people\")\n",
    "a.show()"
   ]
  },
  {
   "cell_type": "code",
   "execution_count": 35,
   "metadata": {},
   "outputs": [
    {
     "name": "stdout",
     "output_type": "stream",
     "text": [
      "root\n",
      " |-- Incident Datetime: string (nullable = true)\n",
      " |-- Incident Date: string (nullable = true)\n",
      " |-- Incident Time: string (nullable = true)\n",
      " |-- Incident Year: integer (nullable = true)\n",
      " |-- Incident Day of Week: string (nullable = true)\n",
      " |-- Report Datetime: string (nullable = true)\n",
      " |-- Row ID: long (nullable = true)\n",
      " |-- Incident ID: integer (nullable = true)\n",
      " |-- Incident Number: integer (nullable = true)\n",
      " |-- CAD Number: integer (nullable = true)\n",
      " |-- Report Type Code: string (nullable = true)\n",
      " |-- Report Type Description: string (nullable = true)\n",
      " |-- Filed Online: boolean (nullable = true)\n",
      " |-- Incident Code: integer (nullable = true)\n",
      " |-- Incident Category: string (nullable = true)\n",
      " |-- Incident Subcategory: string (nullable = true)\n",
      " |-- Incident Description: string (nullable = true)\n",
      " |-- Resolution: string (nullable = true)\n",
      " |-- Intersection: string (nullable = true)\n",
      " |-- CNN: decimal(8,0) (nullable = true)\n",
      " |-- Police District: string (nullable = true)\n",
      " |-- Analysis Neighborhood: string (nullable = true)\n",
      " |-- Supervisor District: integer (nullable = true)\n",
      " |-- Latitude: double (nullable = true)\n",
      " |-- Longitude: double (nullable = true)\n",
      " |-- point: string (nullable = true)\n",
      " |-- SF Find Neighborhoods: integer (nullable = true)\n",
      " |-- Current Police Districts: integer (nullable = true)\n",
      " |-- Current Supervisor Districts: integer (nullable = true)\n",
      " |-- Analysis Neighborhoods: integer (nullable = true)\n",
      " |-- HSOC Zones as of 2018-06-05: integer (nullable = true)\n",
      " |-- OWED Public Spaces: integer (nullable = true)\n",
      "\n"
     ]
    }
   ],
   "source": [
    "data.printSchema()"
   ]
  },
  {
   "cell_type": "code",
   "execution_count": 36,
   "metadata": {},
   "outputs": [
    {
     "ename": "NameError",
     "evalue": "name 'people' is not defined",
     "output_type": "error",
     "traceback": [
      "\u001b[0;31m---------------------------------------------------------------------------\u001b[0m",
      "\u001b[0;31mNameError\u001b[0m                                 Traceback (most recent call last)",
      "\u001b[0;32m<ipython-input-36-fc1763b7a1db>\u001b[0m in \u001b[0;36m<module>\u001b[0;34m\u001b[0m\n\u001b[0;32m----> 1\u001b[0;31m \u001b[0mpeople\u001b[0m\u001b[0;34m.\u001b[0m\u001b[0mprintSchema\u001b[0m\u001b[0;34m(\u001b[0m\u001b[0;34m)\u001b[0m\u001b[0;34m\u001b[0m\u001b[0m\n\u001b[0m",
      "\u001b[0;31mNameError\u001b[0m: name 'people' is not defined"
     ]
    }
   ],
   "source": [
    "people.printSchema()"
   ]
  },
  {
   "cell_type": "code",
   "execution_count": null,
   "metadata": {},
   "outputs": [],
   "source": [
    "cols=['Incident Category','Police District','Incident Date']"
   ]
  },
  {
   "cell_type": "code",
   "execution_count": null,
   "metadata": {},
   "outputs": [],
   "source": [
    "data.select(cols).describe().show()"
   ]
  },
  {
   "cell_type": "code",
   "execution_count": null,
   "metadata": {},
   "outputs": [],
   "source": [
    "g2.plot(kind=\"line\", x=\"Incident Category\", y=\"count\", color=\"blue\", figsize=(14, 6))\n",
    "g1.plot(kind=\"bar\", x=\"Police District\", y=\"count\", color=\"red\", figsize=(14, 6))\n",
    "plt.xlabel('category')\n",
    "plt.ylabel('counts (kms)')\n",
    "plt.title('Information')\n",
    "plt.show()"
   ]
  },
  {
   "cell_type": "code",
   "execution_count": 37,
   "metadata": {},
   "outputs": [
    {
     "name": "stdout",
     "output_type": "stream",
     "text": [
      "+--------------------+--------+\n",
      "|   Incident Category|count(1)|\n",
      "+--------------------+--------+\n",
      "|   Vehicle Misplaced|      66|\n",
      "|          Suspicious|      29|\n",
      "|Forgery And Count...|     669|\n",
      "|         Sex Offense|     420|\n",
      "|      Family Offense|     197|\n",
      "|         Fire Report|     151|\n",
      "|             Assault|    8919|\n",
      "|   Recovered Vehicle|    4259|\n",
      "|      Drug Violation|      54|\n",
      "|             Robbery|    3626|\n",
      "|Motor Vehicle Theft?|      30|\n",
      "|        Embezzlement|     175|\n",
      "|   Vehicle Impounded|      84|\n",
      "|                null|      12|\n",
      "|      Missing Person|    4423|\n",
      "|                Rape|      46|\n",
      "|Human Trafficking...|       3|\n",
      "|       Lost Property|    5475|\n",
      "|               Arson|     359|\n",
      "|            Homicide|      22|\n",
      "+--------------------+--------+\n",
      "only showing top 20 rows\n",
      "\n"
     ]
    }
   ],
   "source": [
    "spark.sql(\"SELECT `Incident Category`,COUNT(*) from global_temp.people GROUP BY (`Incident Category`)\").show()"
   ]
  },
  {
   "cell_type": "code",
   "execution_count": 38,
   "metadata": {},
   "outputs": [],
   "source": [
    "mydata = spark.sql(\"SELECT `Incident Category`,COUNT(*) from global_temp.people  where `Police District`='Tenderloin' GROUP BY (`Incident Category`)\")"
   ]
  },
  {
   "cell_type": "code",
   "execution_count": 39,
   "metadata": {},
   "outputs": [
    {
     "name": "stdout",
     "output_type": "stream",
     "text": [
      "+--------------------+--------+\n",
      "|   Incident Category|count(1)|\n",
      "+--------------------+--------+\n",
      "|   Vehicle Misplaced|       5|\n",
      "|Forgery And Count...|      55|\n",
      "|         Sex Offense|      34|\n",
      "|      Family Offense|      10|\n",
      "|         Fire Report|      11|\n",
      "|             Assault|    1339|\n",
      "|   Recovered Vehicle|     235|\n",
      "|      Drug Violation|      17|\n",
      "|             Robbery|     568|\n",
      "|Motor Vehicle Theft?|       2|\n",
      "|        Embezzlement|      22|\n",
      "|   Vehicle Impounded|       3|\n",
      "|      Missing Person|     296|\n",
      "|                Rape|       6|\n",
      "|       Lost Property|     513|\n",
      "|               Arson|      42|\n",
      "|               Fraud|     279|\n",
      "|            Homicide|       3|\n",
      "|        Drug Offense|    1853|\n",
      "|     Weapons Offence|       1|\n",
      "+--------------------+--------+\n",
      "only showing top 20 rows\n",
      "\n"
     ]
    }
   ],
   "source": [
    "mydata.show()"
   ]
  },
  {
   "cell_type": "code",
   "execution_count": 40,
   "metadata": {},
   "outputs": [],
   "source": [
    "g = mydata.toPandas()"
   ]
  },
  {
   "cell_type": "code",
   "execution_count": 41,
   "metadata": {},
   "outputs": [
    {
     "data": {
      "image/png": "[encoded data removed]",
      "text/plain": [
       "<Figure size 1008x432 with 1 Axes>"
      ]
     },
     "metadata": {
      "needs_background": "light"
     },
     "output_type": "display_data"
    }
   ],
   "source": [
    "g.plot(kind=\"bar\", x=\"Incident Category\", y=\"count(1)\", color=\"blue\", figsize=(14, 6))\n",
    "plt.xlabel('Incident category')\n",
    "plt.ylabel('counts (kms)')\n",
    "plt.title('Incident Information of Tenderloin')\n",
    "plt.show()"
   ]
  },
  {
   "cell_type": "code",
   "execution_count": null,
   "metadata": {},
   "outputs": [],
   "source": []
  }
 ],
 "metadata": {
  "kernelspec": {
   "display_name": "Python 3",
   "language": "python",
   "name": "python3"
  },
  "language_info": {
   "codemirror_mode": {
    "name": "ipython",
    "version": 3
   },
   "file_extension": ".py",
   "mimetype": "text/x-python",
   "name": "python",
   "nbconvert_exporter": "python",
   "pygments_lexer": "ipython3",
   "version": "3.6.3"
  }
 },
 "nbformat": 4,
 "nbformat_minor": 2
}
